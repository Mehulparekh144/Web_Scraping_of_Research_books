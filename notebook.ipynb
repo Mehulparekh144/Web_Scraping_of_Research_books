{
 "cells": [
  {
   "cell_type": "markdown",
   "id": "59f6931c",
   "metadata": {},
   "source": [
    "## Importing Required Modules"
   ]
  },
  {
   "cell_type": "code",
   "execution_count": 109,
   "id": "23cc78ab-0c13-40ad-9318-0627a591f7a2",
   "metadata": {},
   "outputs": [],
   "source": [
    "import pandas as pd\n",
    "import numpy as np\n",
    "from selenium import webdriver\n",
    "import re"
   ]
  },
  {
   "cell_type": "markdown",
   "id": "c0fec9d7",
   "metadata": {},
   "source": [
    "## Creating DataFrame , Functions and Scraping the data"
   ]
  },
  {
   "cell_type": "code",
   "execution_count": 152,
   "id": "83ed9e7c",
   "metadata": {},
   "outputs": [
    {
     "data": {
      "text/html": [
       "<div>\n",
       "<style scoped>\n",
       "    .dataframe tbody tr th:only-of-type {\n",
       "        vertical-align: middle;\n",
       "    }\n",
       "\n",
       "    .dataframe tbody tr th {\n",
       "        vertical-align: top;\n",
       "    }\n",
       "\n",
       "    .dataframe thead th {\n",
       "        text-align: right;\n",
       "    }\n",
       "</style>\n",
       "<table border=\"1\" class=\"dataframe\">\n",
       "  <thead>\n",
       "    <tr style=\"text-align: right;\">\n",
       "      <th></th>\n",
       "      <th>Name</th>\n",
       "      <th>Published By</th>\n",
       "      <th>Published Date</th>\n",
       "      <th>Price</th>\n",
       "      <th>Product Code</th>\n",
       "      <th>Content Info</th>\n",
       "    </tr>\n",
       "  </thead>\n",
       "  <tbody>\n",
       "  </tbody>\n",
       "</table>\n",
       "</div>"
      ],
      "text/plain": [
       "Empty DataFrame\n",
       "Columns: [Name, Published By, Published Date, Price, Product Code, Content Info]\n",
       "Index: []"
      ]
     },
     "execution_count": 152,
     "metadata": {},
     "output_type": "execute_result"
    }
   ],
   "source": [
    "results = pd.DataFrame(columns=['Name' , 'Published By' , 'Published Date' , 'Price' , 'Product Code' , 'Content Info'])\n",
    "results.head()"
   ]
  },
  {
   "cell_type": "code",
   "execution_count": 112,
   "id": "3eb02bcf",
   "metadata": {},
   "outputs": [],
   "source": [
    "def get_items(class_name):\n",
    "    return driver.find_elements_by_class_name(class_name)\n"
   ]
  },
  {
   "cell_type": "code",
   "execution_count": 154,
   "id": "a79ec475",
   "metadata": {},
   "outputs": [
    {
     "name": "stderr",
     "output_type": "stream",
     "text": [
      "/tmp/ipykernel_26518/1968392943.py:1: DeprecationWarning: executable_path has been deprecated, please pass in a Service object\n",
      "  driver = webdriver.Chrome('/usr/bin/chromedriver')\n",
      "/tmp/ipykernel_26518/961376613.py:2: DeprecationWarning: find_elements_by_class_name is deprecated. Please use find_elements(by=By.CLASS_NAME, value=name) instead\n",
      "  return driver.find_elements_by_class_name(class_name)\n",
      "/tmp/ipykernel_26518/1968392943.py:13: DeprecationWarning: find_element_by_class_name is deprecated. Please use find_element(by=By.CLASS_NAME, value=name) instead\n",
      "  button = driver.find_element_by_class_name(\"btn_next\")\n"
     ]
    }
   ],
   "source": [
    "driver = webdriver.Chrome('/usr/bin/chromedriver')\n",
    "driver.get('https://www.giiresearch.com/material_report.shtml')\n",
    "\n",
    "items = get_items('plist_item')\n",
    "\n",
    "for i in items:\n",
    "    temp = i.text.split('\\n')\n",
    "\n",
    "    results = results.append({'Name' : temp[0] , 'Published By' : temp[1] , 'Published Date' : temp[3] , 'Price' : temp[5] , 'Product Code' : temp[2] , 'Content Info' : temp[4]}, ignore_index=True )\n",
    "\n",
    "\n",
    "while(len(results) != 25459):\n",
    "    button = driver.find_element_by_class_name(\"btn_next\")\n",
    "    button.click()\n",
    "    items = get_items('plist_item')\n",
    "    for i in items:\n",
    "        temp = i.text.split('\\n')\n",
    "\n",
    "        results = results.append({'Name' : temp[0] , 'Published By' : temp[1] , 'Published Date' : temp[3] , 'Price' : temp[5] , 'Product Code' : temp[2] , 'Content Info' : temp[4]}, ignore_index=True )\n",
    "\n",
    "\n",
    "    \n",
    "    "
   ]
  },
  {
   "cell_type": "markdown",
   "id": "a560c3c9",
   "metadata": {},
   "source": [
    "## Cleaning the dataframe and exporting it as csv file"
   ]
  },
  {
   "cell_type": "code",
   "execution_count": 168,
   "id": "97fa0fa8",
   "metadata": {},
   "outputs": [],
   "source": [
    "results['Published By'] = [x.replace('Published by' ,'') for x in results['Published By']]\n",
    "results['Published Date'] = [x.replace('Published', '') for x in results['Published Date']]\n",
    "results['Price'] = [x.replace('Price' , '') for x in results['Price']]\n",
    "results['Product Code'] = [int(x.replace('Product code' , '')) for x in results['Product Code']]\n",
    "results['Content Info'] = [x.replace('Content info' , '') for x in results['Content Info']]\n"
   ]
  },
  {
   "cell_type": "code",
   "execution_count": 179,
   "id": "f3f75c8a",
   "metadata": {},
   "outputs": [],
   "source": [
    "results.to_csv('results.csv')"
   ]
  }
 ],
 "metadata": {
  "kernelspec": {
   "display_name": "Python 3 (ipykernel)",
   "language": "python",
   "name": "python3"
  },
  "language_info": {
   "codemirror_mode": {
    "name": "ipython",
    "version": 3
   },
   "file_extension": ".py",
   "mimetype": "text/x-python",
   "name": "python",
   "nbconvert_exporter": "python",
   "pygments_lexer": "ipython3",
   "version": "3.9.7"
  }
 },
 "nbformat": 4,
 "nbformat_minor": 5
}
